{
  "nbformat": 4,
  "nbformat_minor": 0,
  "metadata": {
    "colab": {
      "name": "Aula10(part II).ipynb",
      "version": "0.3.2",
      "provenance": [],
      "include_colab_link": true
    },
    "kernelspec": {
      "name": "python3",
      "display_name": "Python 3"
    }
  },
  "cells": [
    {
      "cell_type": "markdown",
      "metadata": {
        "id": "view-in-github",
        "colab_type": "text"
      },
      "source": [
        "<a href=\"https://colab.research.google.com/github/Thannos/Aula10/blob/master/Aula10(part_II).ipynb\" target=\"_parent\"><img src=\"https://colab.research.google.com/assets/colab-badge.svg\" alt=\"Open In Colab\"/></a>"
      ]
    },
    {
      "metadata": {
        "id": "rr5odUSO5j_t",
        "colab_type": "code",
        "colab": {}
      },
      "cell_type": "code",
      "source": [
        "import numpy as np\n",
        "import matplotlib.pyplot as plt\n",
        "import math\n",
        "import random"
      ],
      "execution_count": 0,
      "outputs": []
    },
    {
      "metadata": {
        "id": "CeHirhMM-kT_",
        "colab_type": "code",
        "colab": {}
      },
      "cell_type": "code",
      "source": [
        "def teste(a,n):\n",
        "  for i in range(1,n):\n",
        "    p[i]=i\n",
        "  for k in range(0,n-1):\n",
        "    pv=a[k,k]\n",
        "    r=k\n",
        "    for i in range(k+1,n):\n",
        "      if (a[i,k]>pv):\n",
        "        pv=a[i,k]\n",
        "        r=i\n",
        "    if(pv==0): return\n",
        "    if (r!=k):\n",
        "      aux=p[k]\n",
        "      p[k]=p[r]\n",
        "      p[r]=aux\n",
        "      for j in range(1,n):\n",
        "        aux=a[k,j]\n",
        "        a[k,j]=a[r,j]\n",
        "        a[r,j]=aux\n",
        "    for i in range(k+1,n):\n",
        "      m=a[i,k]/a[k,k]\n",
        "      a[i,k]=m\n",
        "      for j in range(k+1,n):\n",
        "        a[i,j]=a[i,j]-m*a[k,j]\n",
        "  return a"
      ],
      "execution_count": 0,
      "outputs": []
    },
    {
      "metadata": {
        "id": "FxoNtourE5Mi",
        "colab_type": "code",
        "colab": {
          "base_uri": "https://localhost:8080/",
          "height": 231
        },
        "outputId": "1cff96d4-ebb1-4e63-9de6-f308cb1d0be2"
      },
      "cell_type": "code",
      "source": [
        "n=3\n",
        "for i in range(1,n):\n",
        "  r=p[i]\n",
        "  c[i]=b[r]\n",
        "for i in range(i,n):\n",
        "  soma=0\n",
        "  for j in range(1,i-1):\n",
        "    soma+=a[i,j]*y[j]\n",
        "  y[i]=c[i]-soma\n",
        "for i in range(1,n,-1):\n",
        "  soma=0\n",
        "  for j in range(1,i-1,-1):\n",
        "    soma+=a[i,j]*x[j]\n",
        "  x[i]=(y[i]-soma)/a[i,i]"
      ],
      "execution_count": 77,
      "outputs": [
        {
          "output_type": "error",
          "ename": "NameError",
          "evalue": "ignored",
          "traceback": [
            "\u001b[0;31m---------------------------------------------------------------------------\u001b[0m",
            "\u001b[0;31mNameError\u001b[0m                                 Traceback (most recent call last)",
            "\u001b[0;32m<ipython-input-77-47efbbb3c597>\u001b[0m in \u001b[0;36m<module>\u001b[0;34m()\u001b[0m\n\u001b[1;32m      2\u001b[0m \u001b[0;32mfor\u001b[0m \u001b[0mi\u001b[0m \u001b[0;32min\u001b[0m \u001b[0mrange\u001b[0m\u001b[0;34m(\u001b[0m\u001b[0;36m1\u001b[0m\u001b[0;34m,\u001b[0m\u001b[0mn\u001b[0m\u001b[0;34m)\u001b[0m\u001b[0;34m:\u001b[0m\u001b[0;34m\u001b[0m\u001b[0;34m\u001b[0m\u001b[0m\n\u001b[1;32m      3\u001b[0m   \u001b[0mr\u001b[0m\u001b[0;34m=\u001b[0m\u001b[0mp\u001b[0m\u001b[0;34m[\u001b[0m\u001b[0mi\u001b[0m\u001b[0;34m]\u001b[0m\u001b[0;34m\u001b[0m\u001b[0;34m\u001b[0m\u001b[0m\n\u001b[0;32m----> 4\u001b[0;31m   \u001b[0mc\u001b[0m\u001b[0;34m[\u001b[0m\u001b[0mi\u001b[0m\u001b[0;34m]\u001b[0m\u001b[0;34m=\u001b[0m\u001b[0mb\u001b[0m\u001b[0;34m[\u001b[0m\u001b[0mr\u001b[0m\u001b[0;34m]\u001b[0m\u001b[0;34m\u001b[0m\u001b[0;34m\u001b[0m\u001b[0m\n\u001b[0m\u001b[1;32m      5\u001b[0m \u001b[0;32mfor\u001b[0m \u001b[0mi\u001b[0m \u001b[0;32min\u001b[0m \u001b[0mrange\u001b[0m\u001b[0;34m(\u001b[0m\u001b[0mi\u001b[0m\u001b[0;34m,\u001b[0m\u001b[0mn\u001b[0m\u001b[0;34m)\u001b[0m\u001b[0;34m:\u001b[0m\u001b[0;34m\u001b[0m\u001b[0;34m\u001b[0m\u001b[0m\n\u001b[1;32m      6\u001b[0m   \u001b[0msoma\u001b[0m\u001b[0;34m=\u001b[0m\u001b[0;36m0\u001b[0m\u001b[0;34m\u001b[0m\u001b[0;34m\u001b[0m\u001b[0m\n",
            "\u001b[0;31mNameError\u001b[0m: name 'c' is not defined"
          ]
        }
      ]
    },
    {
      "metadata": {
        "id": "w2gnC1eR2SkX",
        "colab_type": "code",
        "colab": {
          "base_uri": "https://localhost:8080/",
          "height": 238
        },
        "outputId": "ab68c9cd-7fc0-4f51-ba1f-fd1b3ae6a5ef"
      },
      "cell_type": "code",
      "source": [
        "p=np.matrix([[0,1,0],[0,0,1],[1,0,0]])#troca as linhas da matrix, sobe tudo\n",
        "a=np.matrix([[3,1,4],[1,5,9],[2,6,5]])\n",
        "b=np.matrix([[9],[3],[-2]])\n",
        "print(a,'\\n')\n",
        "print(p*a,'\\n')\n",
        "print('\\n\\n------------------------------------------\\n\\n')\n",
        "a=teste(a,len(a))#a=U,"
      ],
      "execution_count": 74,
      "outputs": [
        {
          "output_type": "stream",
          "text": [
            "[[3 1 4]\n",
            " [1 5 9]\n",
            " [2 6 5]] \n",
            "\n",
            "[[1 5 9]\n",
            " [2 6 5]\n",
            " [3 1 4]] \n",
            "\n",
            "\n",
            "\n",
            "------------------------------------------\n",
            "\n",
            "\n"
          ],
          "name": "stdout"
        }
      ]
    }
  ]
}