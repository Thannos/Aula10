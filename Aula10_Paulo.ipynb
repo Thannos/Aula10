{
  "nbformat": 4,
  "nbformat_minor": 0,
  "metadata": {
    "colab": {
      "name": "Aula10_Paulo.ipynb",
      "version": "0.3.2",
      "provenance": [],
      "include_colab_link": true
    },
    "kernelspec": {
      "name": "python3",
      "display_name": "Python 3"
    }
  },
  "cells": [
    {
      "cell_type": "markdown",
      "metadata": {
        "id": "view-in-github",
        "colab_type": "text"
      },
      "source": [
        "<a href=\"https://colab.research.google.com/github/Thannos/Aula10/blob/master/Aula10_Paulo.ipynb\" target=\"_parent\"><img src=\"https://colab.research.google.com/assets/colab-badge.svg\" alt=\"Open In Colab\"/></a>"
      ]
    },
    {
      "metadata": {
        "id": "WihcJCJt3Myq",
        "colab_type": "code",
        "colab": {}
      },
      "cell_type": "code",
      "source": [
        "import numpy as np"
      ],
      "execution_count": 0,
      "outputs": []
    },
    {
      "metadata": {
        "id": "_vqgNomV44ty",
        "colab_type": "code",
        "colab": {
          "base_uri": "https://localhost:8080/",
          "height": 68
        },
        "outputId": "93dba01b-0e90-4ee2-c8bf-b08b65849929"
      },
      "cell_type": "code",
      "source": [
        "a = np.matrix([[3,2,4],[1,1,2],[4,3,2]], dtype='float')\n",
        "print(a)"
      ],
      "execution_count": 77,
      "outputs": [
        {
          "output_type": "stream",
          "text": [
            "[[3. 2. 4.]\n",
            " [1. 1. 2.]\n",
            " [4. 3. 2.]]\n"
          ],
          "name": "stdout"
        }
      ]
    },
    {
      "metadata": {
        "id": "P2eGDglm7rLY",
        "colab_type": "code",
        "colab": {}
      },
      "cell_type": "code",
      "source": [
        "if (np.linalg.det(a) == 0):\n",
        "    print('Não é possível calcular matriz com determinante igual a 0')"
      ],
      "execution_count": 0,
      "outputs": []
    },
    {
      "metadata": {
        "id": "16lOZYOw7xdA",
        "colab_type": "code",
        "colab": {
          "base_uri": "https://localhost:8080/",
          "height": 85
        },
        "outputId": "c85b489a-56f4-4f12-dd96-d36cdb45694c"
      },
      "cell_type": "code",
      "source": [
        "resp1=a[1,0]/a[0,0]\n",
        "resp2=a[2,0]/a[0,0]\n",
        "m = np.matrix([[1,0,0],[-resp1,1,0],[-resp2,0,1]], dtype='float')\n",
        "print('\\n',m)"
      ],
      "execution_count": 79,
      "outputs": [
        {
          "output_type": "stream",
          "text": [
            "\n",
            " [[ 1.          0.          0.        ]\n",
            " [-0.33333333  1.          0.        ]\n",
            " [-1.33333333  0.          1.        ]]\n"
          ],
          "name": "stdout"
        }
      ]
    },
    {
      "metadata": {
        "id": "ZgkZI0AO8JwI",
        "colab_type": "code",
        "colab": {
          "base_uri": "https://localhost:8080/",
          "height": 68
        },
        "outputId": "fe3082f0-60c6-49b9-c7d6-336a335253c5"
      },
      "cell_type": "code",
      "source": [
        "a1=m*a\n",
        "print(a1)"
      ],
      "execution_count": 80,
      "outputs": [
        {
          "output_type": "stream",
          "text": [
            "[[ 3.          2.          4.        ]\n",
            " [ 0.          0.33333333  0.66666667]\n",
            " [ 0.          0.33333333 -3.33333333]]\n"
          ],
          "name": "stdout"
        }
      ]
    },
    {
      "metadata": {
        "id": "_jglVb_z-Alm",
        "colab_type": "code",
        "colab": {
          "base_uri": "https://localhost:8080/",
          "height": 68
        },
        "outputId": "f7e71648-8fbd-466d-d625-96c4d1a655fc"
      },
      "cell_type": "code",
      "source": [
        "resp=a1[2,1]/a1[1,1]\n",
        "m1 = np.matrix([[1,0,0],[0,1,0],[0,-resp,1]], dtype='float')\n",
        "print(m1)"
      ],
      "execution_count": 81,
      "outputs": [
        {
          "output_type": "stream",
          "text": [
            "[[ 1.  0.  0.]\n",
            " [ 0.  1.  0.]\n",
            " [ 0. -1.  1.]]\n"
          ],
          "name": "stdout"
        }
      ]
    },
    {
      "metadata": {
        "id": "6Y_LzQAQAFe1",
        "colab_type": "code",
        "colab": {
          "base_uri": "https://localhost:8080/",
          "height": 68
        },
        "outputId": "d610a580-4e37-49b1-9678-4bfac475d40d"
      },
      "cell_type": "code",
      "source": [
        "b = np.matrix([[1],[2],[3]])\n",
        "t = m1*(m*b)\n",
        "print(t)"
      ],
      "execution_count": 82,
      "outputs": [
        {
          "output_type": "stream",
          "text": [
            "[[ 1.00000000e+00]\n",
            " [ 1.66666667e+00]\n",
            " [-4.44089210e-16]]\n"
          ],
          "name": "stdout"
        }
      ]
    }
  ]
}