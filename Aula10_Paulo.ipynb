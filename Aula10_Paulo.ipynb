{
  "nbformat": 4,
  "nbformat_minor": 0,
  "metadata": {
    "colab": {
      "name": "Aula10_Paulo.ipynb",
      "version": "0.3.2",
      "provenance": [],
      "include_colab_link": true
    },
    "kernelspec": {
      "name": "python3",
      "display_name": "Python 3"
    }
  },
  "cells": [
    {
      "cell_type": "markdown",
      "metadata": {
        "id": "view-in-github",
        "colab_type": "text"
      },
      "source": [
        "<a href=\"https://colab.research.google.com/github/Thannos/Aula10/blob/master/Aula10_Paulo.ipynb\" target=\"_parent\"><img src=\"https://colab.research.google.com/assets/colab-badge.svg\" alt=\"Open In Colab\"/></a>"
      ]
    },
    {
      "metadata": {
        "id": "WihcJCJt3Myq",
        "colab_type": "code",
        "colab": {}
      },
      "cell_type": "code",
      "source": [
        "import numpy as np"
      ],
      "execution_count": 0,
      "outputs": []
    },
    {
      "metadata": {
        "id": "_vqgNomV44ty",
        "colab_type": "code",
        "colab": {
          "base_uri": "https://localhost:8080/",
          "height": 69
        },
        "outputId": "e8727b1f-ff8b-4e26-a8f3-ad3e41c7c8a1"
      },
      "cell_type": "code",
      "source": [
        "a = np.matrix([[3,2,4],[1,1,2],[4,3,2]])\n",
        "if (np.linalg.det(a) == 0):\n",
        "    print('Não é possível calcular matriz com determinante igual a 0')\n",
        "else:\n",
        "  print(a)"
      ],
      "execution_count": 5,
      "outputs": [
        {
          "output_type": "stream",
          "text": [
            "[[3 2 4]\n",
            " [1 1 2]\n",
            " [4 3 2]]\n"
          ],
          "name": "stdout"
        }
      ]
    }
  ]
}