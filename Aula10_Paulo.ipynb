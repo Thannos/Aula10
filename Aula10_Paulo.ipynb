{
  "nbformat": 4,
  "nbformat_minor": 0,
  "metadata": {
    "colab": {
      "name": "Aula10_Paulo.ipynb",
      "version": "0.3.2",
      "provenance": [],
      "include_colab_link": true
    },
    "kernelspec": {
      "name": "python3",
      "display_name": "Python 3"
    }
  },
  "cells": [
    {
      "cell_type": "markdown",
      "metadata": {
        "id": "view-in-github",
        "colab_type": "text"
      },
      "source": [
        "<a href=\"https://colab.research.google.com/github/Thannos/Aula10/blob/master/Aula10_Paulo.ipynb\" target=\"_parent\"><img src=\"https://colab.research.google.com/assets/colab-badge.svg\" alt=\"Open In Colab\"/></a>"
      ]
    },
    {
      "metadata": {
        "id": "WihcJCJt3Myq",
        "colab_type": "code",
        "colab": {}
      },
      "cell_type": "code",
      "source": [
        "import numpy as np"
      ],
      "execution_count": 0,
      "outputs": []
    },
    {
      "metadata": {
        "id": "_vqgNomV44ty",
        "colab_type": "code",
        "colab": {
          "base_uri": "https://localhost:8080/",
          "height": 69
        },
        "outputId": "fb2d990d-43cc-44c0-824e-19beccf93a71"
      },
      "cell_type": "code",
      "source": [
        "a = np.matrix([[3,2,4],[1,1,2],[4,3,2]])\n",
        "print(a)"
      ],
      "execution_count": 16,
      "outputs": [
        {
          "output_type": "stream",
          "text": [
            "[[3 2 4]\n",
            " [1 1 2]\n",
            " [4 3 2]]\n"
          ],
          "name": "stdout"
        }
      ]
    },
    {
      "metadata": {
        "id": "P2eGDglm7rLY",
        "colab_type": "code",
        "colab": {}
      },
      "cell_type": "code",
      "source": [
        "if (np.linalg.det(a) == 0):\n",
        "    print('Não é possível calcular matriz com determinante igual a 0')"
      ],
      "execution_count": 0,
      "outputs": []
    },
    {
      "metadata": {
        "id": "16lOZYOw7xdA",
        "colab_type": "code",
        "colab": {
          "base_uri": "https://localhost:8080/",
          "height": 86
        },
        "outputId": "1ba7e2e2-befb-47c8-d0a1-8d2d65df62cc"
      },
      "cell_type": "code",
      "source": [
        "resp1=a[1,0]/a[0,0]\n",
        "resp2=a[2,0]/a[0,0]\n",
        "b = np.matrix([[1,0,0],[-resp1,1,0],[-resp2,0,1]])\n",
        "print('\\n',b)"
      ],
      "execution_count": 19,
      "outputs": [
        {
          "output_type": "stream",
          "text": [
            "\n",
            " [[ 1.          0.          0.        ]\n",
            " [-0.33333333  1.          0.        ]\n",
            " [-1.33333333  0.          1.        ]]\n"
          ],
          "name": "stdout"
        }
      ]
    }
  ]
}