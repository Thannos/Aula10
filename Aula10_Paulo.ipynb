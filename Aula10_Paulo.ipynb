{
  "nbformat": 4,
  "nbformat_minor": 0,
  "metadata": {
    "colab": {
      "name": "Aula10_Paulo.ipynb",
      "version": "0.3.2",
      "provenance": [],
      "include_colab_link": true
    },
    "kernelspec": {
      "name": "python3",
      "display_name": "Python 3"
    }
  },
  "cells": [
    {
      "cell_type": "markdown",
      "metadata": {
        "id": "view-in-github",
        "colab_type": "text"
      },
      "source": [
        "<a href=\"https://colab.research.google.com/github/Thannos/Aula10/blob/master/Aula10_Paulo.ipynb\" target=\"_parent\"><img src=\"https://colab.research.google.com/assets/colab-badge.svg\" alt=\"Open In Colab\"/></a>"
      ]
    },
    {
      "metadata": {
        "id": "WihcJCJt3Myq",
        "colab_type": "code",
        "colab": {}
      },
      "cell_type": "code",
      "source": [
        "import numpy as np"
      ],
      "execution_count": 0,
      "outputs": []
    },
    {
      "metadata": {
        "id": "_vqgNomV44ty",
        "colab_type": "code",
        "colab": {
          "base_uri": "https://localhost:8080/",
          "height": 68
        },
        "outputId": "c667a418-cf83-4acd-f75f-6ee66a277b5b"
      },
      "cell_type": "code",
      "source": [
        "a = np.matrix([[3,2,4],[1,1,2],[4,3,-2]], dtype='float')\n",
        "print(a)"
      ],
      "execution_count": 66,
      "outputs": [
        {
          "output_type": "stream",
          "text": [
            "[[ 3.  2.  4.]\n",
            " [ 1.  1.  2.]\n",
            " [ 4.  3. -2.]]\n"
          ],
          "name": "stdout"
        }
      ]
    },
    {
      "metadata": {
        "id": "P2eGDglm7rLY",
        "colab_type": "code",
        "colab": {}
      },
      "cell_type": "code",
      "source": [
        "if (np.linalg.det(a) == 0):\n",
        "    print('Não é possível calcular matriz com determinante igual a 0')"
      ],
      "execution_count": 0,
      "outputs": []
    },
    {
      "metadata": {
        "id": "16lOZYOw7xdA",
        "colab_type": "code",
        "colab": {
          "base_uri": "https://localhost:8080/",
          "height": 85
        },
        "outputId": "e68e856a-ecbe-4679-a688-f80123f3ada0"
      },
      "cell_type": "code",
      "source": [
        "resp1=a[1,0]/a[0,0]\n",
        "resp2=a[2,0]/a[0,0]\n",
        "m = np.matrix([[1,0,0],[-resp1,1,0],[-resp2,0,1]], dtype='float')\n",
        "print('\\n',m)"
      ],
      "execution_count": 69,
      "outputs": [
        {
          "output_type": "stream",
          "text": [
            "\n",
            " [[ 1.          0.          0.        ]\n",
            " [-0.33333333  1.          0.        ]\n",
            " [-1.33333333  0.          1.        ]]\n"
          ],
          "name": "stdout"
        }
      ]
    },
    {
      "metadata": {
        "id": "ZgkZI0AO8JwI",
        "colab_type": "code",
        "colab": {
          "base_uri": "https://localhost:8080/",
          "height": 68
        },
        "outputId": "6b6b51c8-50c3-48a1-b149-0190d6f3b3aa"
      },
      "cell_type": "code",
      "source": [
        "a1=m*a\n",
        "print(a1)"
      ],
      "execution_count": 70,
      "outputs": [
        {
          "output_type": "stream",
          "text": [
            "[[ 3.          2.          4.        ]\n",
            " [ 0.          0.33333333  0.66666667]\n",
            " [ 0.          0.33333333 -7.33333333]]\n"
          ],
          "name": "stdout"
        }
      ]
    },
    {
      "metadata": {
        "id": "_jglVb_z-Alm",
        "colab_type": "code",
        "colab": {
          "base_uri": "https://localhost:8080/",
          "height": 68
        },
        "outputId": "b5a68713-4c3b-422d-9ab3-90225dc57eb9"
      },
      "cell_type": "code",
      "source": [
        "resp=a1[2,1]/a1[1,1]\n",
        "m1 = np.matrix([[1,0,0],[0,1,0],[0,-resp,1]], dtype='float')\n",
        "print(m1)"
      ],
      "execution_count": 71,
      "outputs": [
        {
          "output_type": "stream",
          "text": [
            "[[ 1.  0.  0.]\n",
            " [ 0.  1.  0.]\n",
            " [ 0. -1.  1.]]\n"
          ],
          "name": "stdout"
        }
      ]
    },
    {
      "metadata": {
        "id": "6Y_LzQAQAFe1",
        "colab_type": "code",
        "colab": {
          "base_uri": "https://localhost:8080/",
          "height": 68
        },
        "outputId": "32b44eca-284c-4795-c46a-4f6558aeffbd"
      },
      "cell_type": "code",
      "source": [
        "b = np.matrix([[1],[2],[3]])\n",
        "t=m1*(m*b)\n",
        "print(t)"
      ],
      "execution_count": 73,
      "outputs": [
        {
          "output_type": "stream",
          "text": [
            "[[ 1.00000000e+00]\n",
            " [ 1.66666667e+00]\n",
            " [-4.44089210e-16]]\n"
          ],
          "name": "stdout"
        }
      ]
    }
  ]
}